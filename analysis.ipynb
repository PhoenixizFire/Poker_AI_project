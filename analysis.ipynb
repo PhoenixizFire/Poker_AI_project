{
 "metadata": {
  "language_info": {
   "codemirror_mode": {
    "name": "ipython",
    "version": 3
   },
   "file_extension": ".py",
   "mimetype": "text/x-python",
   "name": "python",
   "nbconvert_exporter": "python",
   "pygments_lexer": "ipython3",
   "version": "3.7.5-final"
  },
  "orig_nbformat": 2,
  "kernelspec": {
   "name": "python3",
   "display_name": "Python 3.7.5 64-bit",
   "metadata": {
    "interpreter": {
     "hash": "08ef4b1acff062a5a143d527bf60ed0b03a187e4429a773867615d83e77834e5"
    }
   }
  }
 },
 "nbformat": 4,
 "nbformat_minor": 2,
 "cells": [
  {
   "cell_type": "code",
   "execution_count": 1,
   "metadata": {},
   "outputs": [],
   "source": [
    "import mysql.connector\n",
    "def connect_sqldb():\n",
    "    mydb = mysql.connector.connect(\n",
    "        host = \"localhost\",\n",
    "        user=\"root\",\n",
    "        password=\"admin\",\n",
    "        database=\"pokeraiproject\"\n",
    "    )\n",
    "    return mydb"
   ]
  },
  {
   "cell_type": "code",
   "execution_count": 8,
   "metadata": {},
   "outputs": [],
   "source": [
    "def log_sql(db:object(),sql:str()):\n",
    "    cursor = db.cursor()\n",
    "    print(\"REQUETE SQL AVANT ENVOI : \"+sql)\n",
    "    cursor.execute(sql)\n",
    "    #db.commit()\n",
    "    #cursor.close()\n",
    "    #db.close()"
   ]
  },
  {
   "cell_type": "code",
   "execution_count": 3,
   "metadata": {},
   "outputs": [],
   "source": [
    "import pandas as pd\n",
    "import numpy as np"
   ]
  },
  {
   "cell_type": "code",
   "execution_count": 11,
   "metadata": {},
   "outputs": [],
   "source": [
    "db_conn = connect_sqldb()\n",
    "cursor = db_conn.cursor()\n",
    "cursor.execute(\"SELECT * FROM Table6Phase1Action\")\n",
    "table_rows = cursor.fetchall()\n",
    "df = pd.DataFrame(table_rows)"
   ]
  },
  {
   "cell_type": "code",
   "execution_count": 12,
   "metadata": {},
   "outputs": [
    {
     "output_type": "execute_result",
     "data": {
      "text/plain": [
       "               0       1     2      3      4   5         6   7         8   \\\n",
       "0    210328165805  All-in  1500      0   True  12  Diamonds   3    Spades   \n",
       "1    210328165807  All-in     0      0  False  12    Spades  11  Diamonds   \n",
       "2    210328165808  All-in     0      0  False   7    Hearts   9    Hearts   \n",
       "3    210328165809  All-in     0      0  False   3    Spades  13    Spades   \n",
       "4    210328165810  All-in     0      0  False   2    Hearts   4    Spades   \n",
       "..            ...     ...   ...    ...    ...  ..       ...  ..       ...   \n",
       "161  210329005353   Raise   401  229.0   True  12     Clubs   3     Clubs   \n",
       "162  210329005354   Raise   419  261.0   True   3    Spades   5     Clubs   \n",
       "163  210329005355    Fold     0  680.0  False   2    Spades   7  Diamonds   \n",
       "164  210329005357    Call     0  680.0   True   8     Clubs  10    Spades   \n",
       "165  210329005358    Call     0  705.0   True   9  Diamonds   3  Diamonds   \n",
       "\n",
       "        9   ...  39        40      41    42    43     44  45        46  47  \\\n",
       "0     Fold  ...   7    Spades    Fold     0  1500  False   7     Clubs   6   \n",
       "1     Call  ...  13    Spades   Blind    50  1450   True  10     Clubs  13   \n",
       "2     Call  ...   8     Clubs  All-in  1450     0   True   7  Diamonds  13   \n",
       "3     Fold  ...   7    Hearts   Raise  2897  1453   True  13  Diamonds  13   \n",
       "4    Raise  ...  12    Hearts    Fold     0  7222  False   9    Spades   6   \n",
       "..     ...  ...  ..       ...     ...   ...   ...    ...  ..       ...  ..   \n",
       "161  Blind  ...   2  Diamonds   Blind     0     0  False  14    Hearts   2   \n",
       "162  Blind  ...  11    Hearts   Blind     0     0  False  12    Spades   3   \n",
       "163  Blind  ...   4  Diamonds   Blind     0     0  False  10    Spades  13   \n",
       "164  Blind  ...   5    Spades   Blind     0     0  False   2     Clubs   4   \n",
       "165  Blind  ...   3    Spades   Blind     0     0  False   4    Spades  11   \n",
       "\n",
       "           48  \n",
       "0      Hearts  \n",
       "1    Diamonds  \n",
       "2      Hearts  \n",
       "3       Clubs  \n",
       "4    Diamonds  \n",
       "..        ...  \n",
       "161     Clubs  \n",
       "162     Clubs  \n",
       "163    Spades  \n",
       "164    Hearts  \n",
       "165  Diamonds  \n",
       "\n",
       "[166 rows x 49 columns]"
      ],
      "text/html": "<div>\n<style scoped>\n    .dataframe tbody tr th:only-of-type {\n        vertical-align: middle;\n    }\n\n    .dataframe tbody tr th {\n        vertical-align: top;\n    }\n\n    .dataframe thead th {\n        text-align: right;\n    }\n</style>\n<table border=\"1\" class=\"dataframe\">\n  <thead>\n    <tr style=\"text-align: right;\">\n      <th></th>\n      <th>0</th>\n      <th>1</th>\n      <th>2</th>\n      <th>3</th>\n      <th>4</th>\n      <th>5</th>\n      <th>6</th>\n      <th>7</th>\n      <th>8</th>\n      <th>9</th>\n      <th>...</th>\n      <th>39</th>\n      <th>40</th>\n      <th>41</th>\n      <th>42</th>\n      <th>43</th>\n      <th>44</th>\n      <th>45</th>\n      <th>46</th>\n      <th>47</th>\n      <th>48</th>\n    </tr>\n  </thead>\n  <tbody>\n    <tr>\n      <th>0</th>\n      <td>210328165805</td>\n      <td>All-in</td>\n      <td>1500</td>\n      <td>0</td>\n      <td>True</td>\n      <td>12</td>\n      <td>Diamonds</td>\n      <td>3</td>\n      <td>Spades</td>\n      <td>Fold</td>\n      <td>...</td>\n      <td>7</td>\n      <td>Spades</td>\n      <td>Fold</td>\n      <td>0</td>\n      <td>1500</td>\n      <td>False</td>\n      <td>7</td>\n      <td>Clubs</td>\n      <td>6</td>\n      <td>Hearts</td>\n    </tr>\n    <tr>\n      <th>1</th>\n      <td>210328165807</td>\n      <td>All-in</td>\n      <td>0</td>\n      <td>0</td>\n      <td>False</td>\n      <td>12</td>\n      <td>Spades</td>\n      <td>11</td>\n      <td>Diamonds</td>\n      <td>Call</td>\n      <td>...</td>\n      <td>13</td>\n      <td>Spades</td>\n      <td>Blind</td>\n      <td>50</td>\n      <td>1450</td>\n      <td>True</td>\n      <td>10</td>\n      <td>Clubs</td>\n      <td>13</td>\n      <td>Diamonds</td>\n    </tr>\n    <tr>\n      <th>2</th>\n      <td>210328165808</td>\n      <td>All-in</td>\n      <td>0</td>\n      <td>0</td>\n      <td>False</td>\n      <td>7</td>\n      <td>Hearts</td>\n      <td>9</td>\n      <td>Hearts</td>\n      <td>Call</td>\n      <td>...</td>\n      <td>8</td>\n      <td>Clubs</td>\n      <td>All-in</td>\n      <td>1450</td>\n      <td>0</td>\n      <td>True</td>\n      <td>7</td>\n      <td>Diamonds</td>\n      <td>13</td>\n      <td>Hearts</td>\n    </tr>\n    <tr>\n      <th>3</th>\n      <td>210328165809</td>\n      <td>All-in</td>\n      <td>0</td>\n      <td>0</td>\n      <td>False</td>\n      <td>3</td>\n      <td>Spades</td>\n      <td>13</td>\n      <td>Spades</td>\n      <td>Fold</td>\n      <td>...</td>\n      <td>7</td>\n      <td>Hearts</td>\n      <td>Raise</td>\n      <td>2897</td>\n      <td>1453</td>\n      <td>True</td>\n      <td>13</td>\n      <td>Diamonds</td>\n      <td>13</td>\n      <td>Clubs</td>\n    </tr>\n    <tr>\n      <th>4</th>\n      <td>210328165810</td>\n      <td>All-in</td>\n      <td>0</td>\n      <td>0</td>\n      <td>False</td>\n      <td>2</td>\n      <td>Hearts</td>\n      <td>4</td>\n      <td>Spades</td>\n      <td>Raise</td>\n      <td>...</td>\n      <td>12</td>\n      <td>Hearts</td>\n      <td>Fold</td>\n      <td>0</td>\n      <td>7222</td>\n      <td>False</td>\n      <td>9</td>\n      <td>Spades</td>\n      <td>6</td>\n      <td>Diamonds</td>\n    </tr>\n    <tr>\n      <th>...</th>\n      <td>...</td>\n      <td>...</td>\n      <td>...</td>\n      <td>...</td>\n      <td>...</td>\n      <td>...</td>\n      <td>...</td>\n      <td>...</td>\n      <td>...</td>\n      <td>...</td>\n      <td>...</td>\n      <td>...</td>\n      <td>...</td>\n      <td>...</td>\n      <td>...</td>\n      <td>...</td>\n      <td>...</td>\n      <td>...</td>\n      <td>...</td>\n      <td>...</td>\n      <td>...</td>\n    </tr>\n    <tr>\n      <th>161</th>\n      <td>210329005353</td>\n      <td>Raise</td>\n      <td>401</td>\n      <td>229.0</td>\n      <td>True</td>\n      <td>12</td>\n      <td>Clubs</td>\n      <td>3</td>\n      <td>Clubs</td>\n      <td>Blind</td>\n      <td>...</td>\n      <td>2</td>\n      <td>Diamonds</td>\n      <td>Blind</td>\n      <td>0</td>\n      <td>0</td>\n      <td>False</td>\n      <td>14</td>\n      <td>Hearts</td>\n      <td>2</td>\n      <td>Clubs</td>\n    </tr>\n    <tr>\n      <th>162</th>\n      <td>210329005354</td>\n      <td>Raise</td>\n      <td>419</td>\n      <td>261.0</td>\n      <td>True</td>\n      <td>3</td>\n      <td>Spades</td>\n      <td>5</td>\n      <td>Clubs</td>\n      <td>Blind</td>\n      <td>...</td>\n      <td>11</td>\n      <td>Hearts</td>\n      <td>Blind</td>\n      <td>0</td>\n      <td>0</td>\n      <td>False</td>\n      <td>12</td>\n      <td>Spades</td>\n      <td>3</td>\n      <td>Clubs</td>\n    </tr>\n    <tr>\n      <th>163</th>\n      <td>210329005355</td>\n      <td>Fold</td>\n      <td>0</td>\n      <td>680.0</td>\n      <td>False</td>\n      <td>2</td>\n      <td>Spades</td>\n      <td>7</td>\n      <td>Diamonds</td>\n      <td>Blind</td>\n      <td>...</td>\n      <td>4</td>\n      <td>Diamonds</td>\n      <td>Blind</td>\n      <td>0</td>\n      <td>0</td>\n      <td>False</td>\n      <td>10</td>\n      <td>Spades</td>\n      <td>13</td>\n      <td>Spades</td>\n    </tr>\n    <tr>\n      <th>164</th>\n      <td>210329005357</td>\n      <td>Call</td>\n      <td>0</td>\n      <td>680.0</td>\n      <td>True</td>\n      <td>8</td>\n      <td>Clubs</td>\n      <td>10</td>\n      <td>Spades</td>\n      <td>Blind</td>\n      <td>...</td>\n      <td>5</td>\n      <td>Spades</td>\n      <td>Blind</td>\n      <td>0</td>\n      <td>0</td>\n      <td>False</td>\n      <td>2</td>\n      <td>Clubs</td>\n      <td>4</td>\n      <td>Hearts</td>\n    </tr>\n    <tr>\n      <th>165</th>\n      <td>210329005358</td>\n      <td>Call</td>\n      <td>0</td>\n      <td>705.0</td>\n      <td>True</td>\n      <td>9</td>\n      <td>Diamonds</td>\n      <td>3</td>\n      <td>Diamonds</td>\n      <td>Blind</td>\n      <td>...</td>\n      <td>3</td>\n      <td>Spades</td>\n      <td>Blind</td>\n      <td>0</td>\n      <td>0</td>\n      <td>False</td>\n      <td>4</td>\n      <td>Spades</td>\n      <td>11</td>\n      <td>Diamonds</td>\n    </tr>\n  </tbody>\n</table>\n<p>166 rows × 49 columns</p>\n</div>"
     },
     "metadata": {},
     "execution_count": 12
    }
   ],
   "source": [
    "df"
   ]
  },
  {
   "cell_type": "code",
   "execution_count": 13,
   "metadata": {},
   "outputs": [],
   "source": [
    "df = pd.read_sql('SELECT * FROM Table6Phase1Action',con=db_conn)"
   ]
  },
  {
   "cell_type": "code",
   "execution_count": 14,
   "metadata": {},
   "outputs": [
    {
     "output_type": "execute_result",
     "data": {
      "text/plain": [
       "           gameID Player1Action Player1Bet Player1Money Player1Status  \\\n",
       "0    210328165805        All-in       1500            0          True   \n",
       "1    210328165807        All-in          0            0         False   \n",
       "2    210328165808        All-in          0            0         False   \n",
       "3    210328165809        All-in          0            0         False   \n",
       "4    210328165810        All-in          0            0         False   \n",
       "..            ...           ...        ...          ...           ...   \n",
       "161  210329005353         Raise        401        229.0          True   \n",
       "162  210329005354         Raise        419        261.0          True   \n",
       "163  210329005355          Fold          0        680.0         False   \n",
       "164  210329005357          Call          0        680.0          True   \n",
       "165  210329005358          Call          0        705.0          True   \n",
       "\n",
       "    Player1Card1Value Player1Card1Figure Player1Card2Value Player1Card2Figure  \\\n",
       "0                  12           Diamonds                 3             Spades   \n",
       "1                  12             Spades                11           Diamonds   \n",
       "2                   7             Hearts                 9             Hearts   \n",
       "3                   3             Spades                13             Spades   \n",
       "4                   2             Hearts                 4             Spades   \n",
       "..                ...                ...               ...                ...   \n",
       "161                12              Clubs                 3              Clubs   \n",
       "162                 3             Spades                 5              Clubs   \n",
       "163                 2             Spades                 7           Diamonds   \n",
       "164                 8              Clubs                10             Spades   \n",
       "165                 9           Diamonds                 3           Diamonds   \n",
       "\n",
       "    Player2Action  ... Player5Card2Value Player5Card2Figure Player6Action  \\\n",
       "0            Fold  ...                 7             Spades          Fold   \n",
       "1            Call  ...                13             Spades         Blind   \n",
       "2            Call  ...                 8              Clubs        All-in   \n",
       "3            Fold  ...                 7             Hearts         Raise   \n",
       "4           Raise  ...                12             Hearts          Fold   \n",
       "..            ...  ...               ...                ...           ...   \n",
       "161         Blind  ...                 2           Diamonds         Blind   \n",
       "162         Blind  ...                11             Hearts         Blind   \n",
       "163         Blind  ...                 4           Diamonds         Blind   \n",
       "164         Blind  ...                 5             Spades         Blind   \n",
       "165         Blind  ...                 3             Spades         Blind   \n",
       "\n",
       "    Player6Bet Player6Money Player6Status Player6Card1Value  \\\n",
       "0            0         1500         False                 7   \n",
       "1           50         1450          True                10   \n",
       "2         1450            0          True                 7   \n",
       "3         2897         1453          True                13   \n",
       "4            0         7222         False                 9   \n",
       "..         ...          ...           ...               ...   \n",
       "161          0            0         False                14   \n",
       "162          0            0         False                12   \n",
       "163          0            0         False                10   \n",
       "164          0            0         False                 2   \n",
       "165          0            0         False                 4   \n",
       "\n",
       "    Player6Card1Figure Player6Card2Value Player6Card2Figure  \n",
       "0                Clubs                 6             Hearts  \n",
       "1                Clubs                13           Diamonds  \n",
       "2             Diamonds                13             Hearts  \n",
       "3             Diamonds                13              Clubs  \n",
       "4               Spades                 6           Diamonds  \n",
       "..                 ...               ...                ...  \n",
       "161             Hearts                 2              Clubs  \n",
       "162             Spades                 3              Clubs  \n",
       "163             Spades                13             Spades  \n",
       "164              Clubs                 4             Hearts  \n",
       "165             Spades                11           Diamonds  \n",
       "\n",
       "[166 rows x 49 columns]"
      ],
      "text/html": "<div>\n<style scoped>\n    .dataframe tbody tr th:only-of-type {\n        vertical-align: middle;\n    }\n\n    .dataframe tbody tr th {\n        vertical-align: top;\n    }\n\n    .dataframe thead th {\n        text-align: right;\n    }\n</style>\n<table border=\"1\" class=\"dataframe\">\n  <thead>\n    <tr style=\"text-align: right;\">\n      <th></th>\n      <th>gameID</th>\n      <th>Player1Action</th>\n      <th>Player1Bet</th>\n      <th>Player1Money</th>\n      <th>Player1Status</th>\n      <th>Player1Card1Value</th>\n      <th>Player1Card1Figure</th>\n      <th>Player1Card2Value</th>\n      <th>Player1Card2Figure</th>\n      <th>Player2Action</th>\n      <th>...</th>\n      <th>Player5Card2Value</th>\n      <th>Player5Card2Figure</th>\n      <th>Player6Action</th>\n      <th>Player6Bet</th>\n      <th>Player6Money</th>\n      <th>Player6Status</th>\n      <th>Player6Card1Value</th>\n      <th>Player6Card1Figure</th>\n      <th>Player6Card2Value</th>\n      <th>Player6Card2Figure</th>\n    </tr>\n  </thead>\n  <tbody>\n    <tr>\n      <th>0</th>\n      <td>210328165805</td>\n      <td>All-in</td>\n      <td>1500</td>\n      <td>0</td>\n      <td>True</td>\n      <td>12</td>\n      <td>Diamonds</td>\n      <td>3</td>\n      <td>Spades</td>\n      <td>Fold</td>\n      <td>...</td>\n      <td>7</td>\n      <td>Spades</td>\n      <td>Fold</td>\n      <td>0</td>\n      <td>1500</td>\n      <td>False</td>\n      <td>7</td>\n      <td>Clubs</td>\n      <td>6</td>\n      <td>Hearts</td>\n    </tr>\n    <tr>\n      <th>1</th>\n      <td>210328165807</td>\n      <td>All-in</td>\n      <td>0</td>\n      <td>0</td>\n      <td>False</td>\n      <td>12</td>\n      <td>Spades</td>\n      <td>11</td>\n      <td>Diamonds</td>\n      <td>Call</td>\n      <td>...</td>\n      <td>13</td>\n      <td>Spades</td>\n      <td>Blind</td>\n      <td>50</td>\n      <td>1450</td>\n      <td>True</td>\n      <td>10</td>\n      <td>Clubs</td>\n      <td>13</td>\n      <td>Diamonds</td>\n    </tr>\n    <tr>\n      <th>2</th>\n      <td>210328165808</td>\n      <td>All-in</td>\n      <td>0</td>\n      <td>0</td>\n      <td>False</td>\n      <td>7</td>\n      <td>Hearts</td>\n      <td>9</td>\n      <td>Hearts</td>\n      <td>Call</td>\n      <td>...</td>\n      <td>8</td>\n      <td>Clubs</td>\n      <td>All-in</td>\n      <td>1450</td>\n      <td>0</td>\n      <td>True</td>\n      <td>7</td>\n      <td>Diamonds</td>\n      <td>13</td>\n      <td>Hearts</td>\n    </tr>\n    <tr>\n      <th>3</th>\n      <td>210328165809</td>\n      <td>All-in</td>\n      <td>0</td>\n      <td>0</td>\n      <td>False</td>\n      <td>3</td>\n      <td>Spades</td>\n      <td>13</td>\n      <td>Spades</td>\n      <td>Fold</td>\n      <td>...</td>\n      <td>7</td>\n      <td>Hearts</td>\n      <td>Raise</td>\n      <td>2897</td>\n      <td>1453</td>\n      <td>True</td>\n      <td>13</td>\n      <td>Diamonds</td>\n      <td>13</td>\n      <td>Clubs</td>\n    </tr>\n    <tr>\n      <th>4</th>\n      <td>210328165810</td>\n      <td>All-in</td>\n      <td>0</td>\n      <td>0</td>\n      <td>False</td>\n      <td>2</td>\n      <td>Hearts</td>\n      <td>4</td>\n      <td>Spades</td>\n      <td>Raise</td>\n      <td>...</td>\n      <td>12</td>\n      <td>Hearts</td>\n      <td>Fold</td>\n      <td>0</td>\n      <td>7222</td>\n      <td>False</td>\n      <td>9</td>\n      <td>Spades</td>\n      <td>6</td>\n      <td>Diamonds</td>\n    </tr>\n    <tr>\n      <th>...</th>\n      <td>...</td>\n      <td>...</td>\n      <td>...</td>\n      <td>...</td>\n      <td>...</td>\n      <td>...</td>\n      <td>...</td>\n      <td>...</td>\n      <td>...</td>\n      <td>...</td>\n      <td>...</td>\n      <td>...</td>\n      <td>...</td>\n      <td>...</td>\n      <td>...</td>\n      <td>...</td>\n      <td>...</td>\n      <td>...</td>\n      <td>...</td>\n      <td>...</td>\n      <td>...</td>\n    </tr>\n    <tr>\n      <th>161</th>\n      <td>210329005353</td>\n      <td>Raise</td>\n      <td>401</td>\n      <td>229.0</td>\n      <td>True</td>\n      <td>12</td>\n      <td>Clubs</td>\n      <td>3</td>\n      <td>Clubs</td>\n      <td>Blind</td>\n      <td>...</td>\n      <td>2</td>\n      <td>Diamonds</td>\n      <td>Blind</td>\n      <td>0</td>\n      <td>0</td>\n      <td>False</td>\n      <td>14</td>\n      <td>Hearts</td>\n      <td>2</td>\n      <td>Clubs</td>\n    </tr>\n    <tr>\n      <th>162</th>\n      <td>210329005354</td>\n      <td>Raise</td>\n      <td>419</td>\n      <td>261.0</td>\n      <td>True</td>\n      <td>3</td>\n      <td>Spades</td>\n      <td>5</td>\n      <td>Clubs</td>\n      <td>Blind</td>\n      <td>...</td>\n      <td>11</td>\n      <td>Hearts</td>\n      <td>Blind</td>\n      <td>0</td>\n      <td>0</td>\n      <td>False</td>\n      <td>12</td>\n      <td>Spades</td>\n      <td>3</td>\n      <td>Clubs</td>\n    </tr>\n    <tr>\n      <th>163</th>\n      <td>210329005355</td>\n      <td>Fold</td>\n      <td>0</td>\n      <td>680.0</td>\n      <td>False</td>\n      <td>2</td>\n      <td>Spades</td>\n      <td>7</td>\n      <td>Diamonds</td>\n      <td>Blind</td>\n      <td>...</td>\n      <td>4</td>\n      <td>Diamonds</td>\n      <td>Blind</td>\n      <td>0</td>\n      <td>0</td>\n      <td>False</td>\n      <td>10</td>\n      <td>Spades</td>\n      <td>13</td>\n      <td>Spades</td>\n    </tr>\n    <tr>\n      <th>164</th>\n      <td>210329005357</td>\n      <td>Call</td>\n      <td>0</td>\n      <td>680.0</td>\n      <td>True</td>\n      <td>8</td>\n      <td>Clubs</td>\n      <td>10</td>\n      <td>Spades</td>\n      <td>Blind</td>\n      <td>...</td>\n      <td>5</td>\n      <td>Spades</td>\n      <td>Blind</td>\n      <td>0</td>\n      <td>0</td>\n      <td>False</td>\n      <td>2</td>\n      <td>Clubs</td>\n      <td>4</td>\n      <td>Hearts</td>\n    </tr>\n    <tr>\n      <th>165</th>\n      <td>210329005358</td>\n      <td>Call</td>\n      <td>0</td>\n      <td>705.0</td>\n      <td>True</td>\n      <td>9</td>\n      <td>Diamonds</td>\n      <td>3</td>\n      <td>Diamonds</td>\n      <td>Blind</td>\n      <td>...</td>\n      <td>3</td>\n      <td>Spades</td>\n      <td>Blind</td>\n      <td>0</td>\n      <td>0</td>\n      <td>False</td>\n      <td>4</td>\n      <td>Spades</td>\n      <td>11</td>\n      <td>Diamonds</td>\n    </tr>\n  </tbody>\n</table>\n<p>166 rows × 49 columns</p>\n</div>"
     },
     "metadata": {},
     "execution_count": 14
    }
   ],
   "source": [
    "df"
   ]
  },
  {
   "cell_type": "code",
   "execution_count": 18,
   "metadata": {},
   "outputs": [
    {
     "output_type": "execute_result",
     "data": {
      "text/plain": [
       "Index(['gameID', 'Player1Action', 'Player1Bet', 'Player1Money',\n",
       "       'Player1Status', 'Player1Card1Value', 'Player1Card1Figure',\n",
       "       'Player1Card2Value', 'Player1Card2Figure', 'Player2Action',\n",
       "       'Player2Bet', 'Player2Money', 'Player2Status', 'Player2Card1Value',\n",
       "       'Player2Card1Figure', 'Player2Card2Value', 'Player2Card2Figure',\n",
       "       'Player3Action', 'Player3Bet', 'Player3Money', 'Player3Status',\n",
       "       'Player3Card1Value', 'Player3Card1Figure', 'Player3Card2Value',\n",
       "       'Player3Card2Figure', 'Player4Action', 'Player4Bet', 'Player4Money',\n",
       "       'Player4Status', 'Player4Card1Value', 'Player4Card1Figure',\n",
       "       'Player4Card2Value', 'Player4Card2Figure', 'Player5Action',\n",
       "       'Player5Bet', 'Player5Money', 'Player5Status', 'Player5Card1Value',\n",
       "       'Player5Card1Figure', 'Player5Card2Value', 'Player5Card2Figure',\n",
       "       'Player6Action', 'Player6Bet', 'Player6Money', 'Player6Status',\n",
       "       'Player6Card1Value', 'Player6Card1Figure', 'Player6Card2Value',\n",
       "       'Player6Card2Figure'],\n",
       "      dtype='object')"
      ]
     },
     "metadata": {},
     "execution_count": 18
    }
   ],
   "source": [
    "for i in range(6):\n",
    "   #print(i+1)\n",
    "   pass\n",
    "\n",
    "df.columns"
   ]
  },
  {
   "cell_type": "code",
   "execution_count": 19,
   "metadata": {},
   "outputs": [
    {
     "output_type": "execute_result",
     "data": {
      "text/plain": [
       "0      210328165805\n",
       "1      210328165807\n",
       "2      210328165808\n",
       "3      210328165809\n",
       "4      210328165810\n",
       "           ...     \n",
       "161    210329005353\n",
       "162    210329005354\n",
       "163    210329005355\n",
       "164    210329005357\n",
       "165    210329005358\n",
       "Name: gameID, Length: 166, dtype: object"
      ]
     },
     "metadata": {},
     "execution_count": 19
    }
   ],
   "source": [
    "df['gameID']"
   ]
  },
  {
   "cell_type": "code",
   "execution_count": 2,
   "metadata": {},
   "outputs": [],
   "source": [
    "import tensorflow as tf\n",
    "from tensorflow.keras.utils import to_categorical"
   ]
  },
  {
   "cell_type": "code",
   "execution_count": null,
   "metadata": {},
   "outputs": [],
   "source": [
    "inputs = tf.keras.Input(shape=)"
   ]
  }
 ]
}