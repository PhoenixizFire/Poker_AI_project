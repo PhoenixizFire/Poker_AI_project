{
 "metadata": {
  "language_info": {
   "codemirror_mode": {
    "name": "ipython",
    "version": 3
   },
   "file_extension": ".py",
   "mimetype": "text/x-python",
   "name": "python",
   "nbconvert_exporter": "python",
   "pygments_lexer": "ipython3",
   "version": "3.7.5-final"
  },
  "orig_nbformat": 2,
  "kernelspec": {
   "name": "python3",
   "display_name": "Python 3.7.5 64-bit",
   "metadata": {
    "interpreter": {
     "hash": "08ef4b1acff062a5a143d527bf60ed0b03a187e4429a773867615d83e77834e5"
    }
   }
  }
 },
 "nbformat": 4,
 "nbformat_minor": 2,
 "cells": [
  {
   "cell_type": "code",
   "execution_count": 1,
   "metadata": {},
   "outputs": [],
   "source": [
    "import mysql.connector\n",
    "import pandas as pd\n",
    "import numpy as np\n",
    "import tensorflow as tf\n",
    "from tensorflow.keras.utils import to_categorical\n",
    "import datascripts as ds"
   ]
  },
  {
   "cell_type": "code",
   "execution_count": 2,
   "metadata": {},
   "outputs": [],
   "source": [
    "def connect_sqldb():\n",
    "    mydb = mysql.connector.connect(\n",
    "        host = \"localhost\",\n",
    "        user=\"root\",\n",
    "        password=\"admin\",\n",
    "        database=\"pokeraiproject\"\n",
    "    )\n",
    "    return mydb\n",
    "\n",
    "db_conn = connect_sqldb()"
   ]
  },
  {
   "cell_type": "code",
   "execution_count": 3,
   "metadata": {},
   "outputs": [],
   "source": [
    "df_6x1 = pd.read_sql('SELECT * FROM Table6Phase1Action',con=db_conn)\n",
    "df_6x2 = pd.read_sql('SELECT * FROM Table6Phase2Action',con=db_conn)\n",
    "df_6x3 = pd.read_sql('SELECT * FROM Table6Phase3Action',con=db_conn)\n",
    "df_6x4 = pd.read_sql('SELECT * FROM Table6Phase4Action',con=db_conn)\n",
    "df_6xR = pd.read_sql('SELECT * FROM Table6Result',con=db_conn)"
   ]
  },
  {
   "cell_type": "code",
   "execution_count": 10,
   "metadata": {},
   "outputs": [],
   "source": [
    "df6 = pd.read_sql(\"\"\"\n",
    "SELECT * FROM Table6Phase1Action\n",
    "LEFT JOIN Table6Phase2Action on Table6Phase1Action.gameID = Table6Phase2Action.gameID\n",
    "LEFT JOIN Table6Phase3Action on Table6Phase1Action.gameID = Table6Phase3Action.gameID\n",
    "LEFT JOIN Table6Phase4Action on Table6Phase1Action.gameID = Table6Phase4Action.gameID\n",
    "LEFT JOIN Table6Result on Table6Phase1Action.gameID = Table6Result.gameID\n",
    "\"\"\",con=db_conn)"
   ]
  },
  {
   "cell_type": "code",
   "execution_count": 4,
   "metadata": {},
   "outputs": [
    {
     "output_type": "execute_result",
     "data": {
      "text/plain": [
       "           gameID Player1Action Player1Bet Player1Money Player1Status  \\\n",
       "0    210328165805        All-in       1500            0          True   \n",
       "1    210328165807        All-in          0            0         False   \n",
       "2    210328165808        All-in          0            0         False   \n",
       "3    210328165809        All-in          0            0         False   \n",
       "4    210328165810        All-in          0            0         False   \n",
       "..            ...           ...        ...          ...           ...   \n",
       "211  210329013329          Call          0        27673          True   \n",
       "212  210329013330         Raise       3074        24649          True   \n",
       "213  210329013331         Raise       3083        24665          True   \n",
       "214  210329013332          Call          0        30831          True   \n",
       "215  210329013333          Fold          0        30831         False   \n",
       "\n",
       "    Player1Card1Value Player1Card1Figure Player1Card2Value Player1Card2Figure  \\\n",
       "0                  12           Diamonds                 3             Spades   \n",
       "1                  12             Spades                11           Diamonds   \n",
       "2                   7             Hearts                 9             Hearts   \n",
       "3                   3             Spades                13             Spades   \n",
       "4                   2             Hearts                 4             Spades   \n",
       "..                ...                ...               ...                ...   \n",
       "211                 6              Clubs                11             Spades   \n",
       "212                12              Clubs                12             Spades   \n",
       "213                11           Diamonds                 5             Spades   \n",
       "214                 8             Hearts                 2             Spades   \n",
       "215                10             Spades                 2             Hearts   \n",
       "\n",
       "    Player2Action  ... Player5Card2Value Player5Card2Figure Player6Action  \\\n",
       "0            Fold  ...                 7             Spades          Fold   \n",
       "1            Call  ...                13             Spades         Blind   \n",
       "2            Call  ...                 8              Clubs        All-in   \n",
       "3            Fold  ...                 7             Hearts         Raise   \n",
       "4           Raise  ...                12             Hearts          Fold   \n",
       "..            ...  ...               ...                ...           ...   \n",
       "211         Blind  ...                10             Spades         Blind   \n",
       "212         Blind  ...                 5           Diamonds         Blind   \n",
       "213         Blind  ...                12             Hearts         Blind   \n",
       "214         Blind  ...                 5              Clubs         Blind   \n",
       "215         Blind  ...                 9             Spades         Blind   \n",
       "\n",
       "    Player6Bet Player6Money Player6Status Player6Card1Value  \\\n",
       "0            0         1500         False                 7   \n",
       "1           50         1450          True                10   \n",
       "2         1450            0          True                 7   \n",
       "3         2897         1453          True                13   \n",
       "4            0         7222         False                 9   \n",
       "..         ...          ...           ...               ...   \n",
       "211          0            0         False                12   \n",
       "212          0            0         False                 3   \n",
       "213          0            0         False                 9   \n",
       "214          0            0         False                10   \n",
       "215          0            0         False                 2   \n",
       "\n",
       "    Player6Card1Figure Player6Card2Value Player6Card2Figure  \n",
       "0                Clubs                 6             Hearts  \n",
       "1                Clubs                13           Diamonds  \n",
       "2             Diamonds                13             Hearts  \n",
       "3             Diamonds                13              Clubs  \n",
       "4               Spades                 6           Diamonds  \n",
       "..                 ...               ...                ...  \n",
       "211           Diamonds                 5              Clubs  \n",
       "212              Clubs                 8           Diamonds  \n",
       "213           Diamonds                10           Diamonds  \n",
       "214             Spades                12             Hearts  \n",
       "215              Clubs                 3             Hearts  \n",
       "\n",
       "[216 rows x 49 columns]"
      ],
      "text/html": "<div>\n<style scoped>\n    .dataframe tbody tr th:only-of-type {\n        vertical-align: middle;\n    }\n\n    .dataframe tbody tr th {\n        vertical-align: top;\n    }\n\n    .dataframe thead th {\n        text-align: right;\n    }\n</style>\n<table border=\"1\" class=\"dataframe\">\n  <thead>\n    <tr style=\"text-align: right;\">\n      <th></th>\n      <th>gameID</th>\n      <th>Player1Action</th>\n      <th>Player1Bet</th>\n      <th>Player1Money</th>\n      <th>Player1Status</th>\n      <th>Player1Card1Value</th>\n      <th>Player1Card1Figure</th>\n      <th>Player1Card2Value</th>\n      <th>Player1Card2Figure</th>\n      <th>Player2Action</th>\n      <th>...</th>\n      <th>Player5Card2Value</th>\n      <th>Player5Card2Figure</th>\n      <th>Player6Action</th>\n      <th>Player6Bet</th>\n      <th>Player6Money</th>\n      <th>Player6Status</th>\n      <th>Player6Card1Value</th>\n      <th>Player6Card1Figure</th>\n      <th>Player6Card2Value</th>\n      <th>Player6Card2Figure</th>\n    </tr>\n  </thead>\n  <tbody>\n    <tr>\n      <th>0</th>\n      <td>210328165805</td>\n      <td>All-in</td>\n      <td>1500</td>\n      <td>0</td>\n      <td>True</td>\n      <td>12</td>\n      <td>Diamonds</td>\n      <td>3</td>\n      <td>Spades</td>\n      <td>Fold</td>\n      <td>...</td>\n      <td>7</td>\n      <td>Spades</td>\n      <td>Fold</td>\n      <td>0</td>\n      <td>1500</td>\n      <td>False</td>\n      <td>7</td>\n      <td>Clubs</td>\n      <td>6</td>\n      <td>Hearts</td>\n    </tr>\n    <tr>\n      <th>1</th>\n      <td>210328165807</td>\n      <td>All-in</td>\n      <td>0</td>\n      <td>0</td>\n      <td>False</td>\n      <td>12</td>\n      <td>Spades</td>\n      <td>11</td>\n      <td>Diamonds</td>\n      <td>Call</td>\n      <td>...</td>\n      <td>13</td>\n      <td>Spades</td>\n      <td>Blind</td>\n      <td>50</td>\n      <td>1450</td>\n      <td>True</td>\n      <td>10</td>\n      <td>Clubs</td>\n      <td>13</td>\n      <td>Diamonds</td>\n    </tr>\n    <tr>\n      <th>2</th>\n      <td>210328165808</td>\n      <td>All-in</td>\n      <td>0</td>\n      <td>0</td>\n      <td>False</td>\n      <td>7</td>\n      <td>Hearts</td>\n      <td>9</td>\n      <td>Hearts</td>\n      <td>Call</td>\n      <td>...</td>\n      <td>8</td>\n      <td>Clubs</td>\n      <td>All-in</td>\n      <td>1450</td>\n      <td>0</td>\n      <td>True</td>\n      <td>7</td>\n      <td>Diamonds</td>\n      <td>13</td>\n      <td>Hearts</td>\n    </tr>\n    <tr>\n      <th>3</th>\n      <td>210328165809</td>\n      <td>All-in</td>\n      <td>0</td>\n      <td>0</td>\n      <td>False</td>\n      <td>3</td>\n      <td>Spades</td>\n      <td>13</td>\n      <td>Spades</td>\n      <td>Fold</td>\n      <td>...</td>\n      <td>7</td>\n      <td>Hearts</td>\n      <td>Raise</td>\n      <td>2897</td>\n      <td>1453</td>\n      <td>True</td>\n      <td>13</td>\n      <td>Diamonds</td>\n      <td>13</td>\n      <td>Clubs</td>\n    </tr>\n    <tr>\n      <th>4</th>\n      <td>210328165810</td>\n      <td>All-in</td>\n      <td>0</td>\n      <td>0</td>\n      <td>False</td>\n      <td>2</td>\n      <td>Hearts</td>\n      <td>4</td>\n      <td>Spades</td>\n      <td>Raise</td>\n      <td>...</td>\n      <td>12</td>\n      <td>Hearts</td>\n      <td>Fold</td>\n      <td>0</td>\n      <td>7222</td>\n      <td>False</td>\n      <td>9</td>\n      <td>Spades</td>\n      <td>6</td>\n      <td>Diamonds</td>\n    </tr>\n    <tr>\n      <th>...</th>\n      <td>...</td>\n      <td>...</td>\n      <td>...</td>\n      <td>...</td>\n      <td>...</td>\n      <td>...</td>\n      <td>...</td>\n      <td>...</td>\n      <td>...</td>\n      <td>...</td>\n      <td>...</td>\n      <td>...</td>\n      <td>...</td>\n      <td>...</td>\n      <td>...</td>\n      <td>...</td>\n      <td>...</td>\n      <td>...</td>\n      <td>...</td>\n      <td>...</td>\n      <td>...</td>\n    </tr>\n    <tr>\n      <th>211</th>\n      <td>210329013329</td>\n      <td>Call</td>\n      <td>0</td>\n      <td>27673</td>\n      <td>True</td>\n      <td>6</td>\n      <td>Clubs</td>\n      <td>11</td>\n      <td>Spades</td>\n      <td>Blind</td>\n      <td>...</td>\n      <td>10</td>\n      <td>Spades</td>\n      <td>Blind</td>\n      <td>0</td>\n      <td>0</td>\n      <td>False</td>\n      <td>12</td>\n      <td>Diamonds</td>\n      <td>5</td>\n      <td>Clubs</td>\n    </tr>\n    <tr>\n      <th>212</th>\n      <td>210329013330</td>\n      <td>Raise</td>\n      <td>3074</td>\n      <td>24649</td>\n      <td>True</td>\n      <td>12</td>\n      <td>Clubs</td>\n      <td>12</td>\n      <td>Spades</td>\n      <td>Blind</td>\n      <td>...</td>\n      <td>5</td>\n      <td>Diamonds</td>\n      <td>Blind</td>\n      <td>0</td>\n      <td>0</td>\n      <td>False</td>\n      <td>3</td>\n      <td>Clubs</td>\n      <td>8</td>\n      <td>Diamonds</td>\n    </tr>\n    <tr>\n      <th>213</th>\n      <td>210329013331</td>\n      <td>Raise</td>\n      <td>3083</td>\n      <td>24665</td>\n      <td>True</td>\n      <td>11</td>\n      <td>Diamonds</td>\n      <td>5</td>\n      <td>Spades</td>\n      <td>Blind</td>\n      <td>...</td>\n      <td>12</td>\n      <td>Hearts</td>\n      <td>Blind</td>\n      <td>0</td>\n      <td>0</td>\n      <td>False</td>\n      <td>9</td>\n      <td>Diamonds</td>\n      <td>10</td>\n      <td>Diamonds</td>\n    </tr>\n    <tr>\n      <th>214</th>\n      <td>210329013332</td>\n      <td>Call</td>\n      <td>0</td>\n      <td>30831</td>\n      <td>True</td>\n      <td>8</td>\n      <td>Hearts</td>\n      <td>2</td>\n      <td>Spades</td>\n      <td>Blind</td>\n      <td>...</td>\n      <td>5</td>\n      <td>Clubs</td>\n      <td>Blind</td>\n      <td>0</td>\n      <td>0</td>\n      <td>False</td>\n      <td>10</td>\n      <td>Spades</td>\n      <td>12</td>\n      <td>Hearts</td>\n    </tr>\n    <tr>\n      <th>215</th>\n      <td>210329013333</td>\n      <td>Fold</td>\n      <td>0</td>\n      <td>30831</td>\n      <td>False</td>\n      <td>10</td>\n      <td>Spades</td>\n      <td>2</td>\n      <td>Hearts</td>\n      <td>Blind</td>\n      <td>...</td>\n      <td>9</td>\n      <td>Spades</td>\n      <td>Blind</td>\n      <td>0</td>\n      <td>0</td>\n      <td>False</td>\n      <td>2</td>\n      <td>Clubs</td>\n      <td>3</td>\n      <td>Hearts</td>\n    </tr>\n  </tbody>\n</table>\n<p>216 rows × 49 columns</p>\n</div>"
     },
     "metadata": {},
     "execution_count": 4
    }
   ],
   "source": [
    "df_6x1"
   ]
  },
  {
   "cell_type": "code",
   "execution_count": 5,
   "metadata": {},
   "outputs": [
    {
     "output_type": "execute_result",
     "data": {
      "text/plain": [
       "Index(['gameID', 'Player1Action', 'Player1Bet', 'Player1Money',\n",
       "       'Player1Status', 'Player1Card1Value', 'Player1Card1Figure',\n",
       "       'Player1Card2Value', 'Player1Card2Figure', 'Player2Action',\n",
       "       'Player2Bet', 'Player2Money', 'Player2Status', 'Player2Card1Value',\n",
       "       'Player2Card1Figure', 'Player2Card2Value', 'Player2Card2Figure',\n",
       "       'Player3Action', 'Player3Bet', 'Player3Money', 'Player3Status',\n",
       "       'Player3Card1Value', 'Player3Card1Figure', 'Player3Card2Value',\n",
       "       'Player3Card2Figure', 'Player4Action', 'Player4Bet', 'Player4Money',\n",
       "       'Player4Status', 'Player4Card1Value', 'Player4Card1Figure',\n",
       "       'Player4Card2Value', 'Player4Card2Figure', 'Player5Action',\n",
       "       'Player5Bet', 'Player5Money', 'Player5Status', 'Player5Card1Value',\n",
       "       'Player5Card1Figure', 'Player5Card2Value', 'Player5Card2Figure',\n",
       "       'Player6Action', 'Player6Bet', 'Player6Money', 'Player6Status',\n",
       "       'Player6Card1Value', 'Player6Card1Figure', 'Player6Card2Value',\n",
       "       'Player6Card2Figure'],\n",
       "      dtype='object')"
      ]
     },
     "metadata": {},
     "execution_count": 5
    }
   ],
   "source": [
    "df_6x1.columns"
   ]
  },
  {
   "cell_type": "code",
   "execution_count": 6,
   "metadata": {},
   "outputs": [
    {
     "output_type": "execute_result",
     "data": {
      "text/plain": [
       "0      210328165805\n",
       "1      210328165807\n",
       "2      210328165808\n",
       "3      210328165809\n",
       "4      210328165810\n",
       "           ...     \n",
       "211    210329013329\n",
       "212    210329013330\n",
       "213    210329013331\n",
       "214    210329013332\n",
       "215    210329013333\n",
       "Name: gameID, Length: 216, dtype: object"
      ]
     },
     "metadata": {},
     "execution_count": 6
    }
   ],
   "source": [
    "df_6x1['gameID']"
   ]
  },
  {
   "cell_type": "code",
   "execution_count": 11,
   "metadata": {},
   "outputs": [
    {
     "output_type": "execute_result",
     "data": {
      "text/plain": [
       "           gameID Player1Action Player1Bet Player1Money Player1Status  \\\n",
       "0    210328165805        All-in       1500            0          True   \n",
       "1    210328165807        All-in          0            0         False   \n",
       "2    210328165808        All-in          0            0         False   \n",
       "3    210328165809        All-in          0            0         False   \n",
       "4    210328165810        All-in          0            0         False   \n",
       "..            ...           ...        ...          ...           ...   \n",
       "211  210329013329          Call          0        27673          True   \n",
       "212  210329013330         Raise       3074        24649          True   \n",
       "213  210329013331         Raise       3083        24665          True   \n",
       "214  210329013332          Call          0        30831          True   \n",
       "215  210329013333          Fold          0        30831         False   \n",
       "\n",
       "    Player1Card1Value Player1Card1Figure Player1Card2Value Player1Card2Figure  \\\n",
       "0                  12           Diamonds                 3             Spades   \n",
       "1                  12             Spades                11           Diamonds   \n",
       "2                   7             Hearts                 9             Hearts   \n",
       "3                   3             Spades                13             Spades   \n",
       "4                   2             Hearts                 4             Spades   \n",
       "..                ...                ...               ...                ...   \n",
       "211                 6              Clubs                11             Spades   \n",
       "212                12              Clubs                12             Spades   \n",
       "213                11           Diamonds                 5             Spades   \n",
       "214                 8             Hearts                 2             Spades   \n",
       "215                10             Spades                 2             Hearts   \n",
       "\n",
       "    Player2Action  ... Player6Card1Figure Player6Card2Value  \\\n",
       "0            Fold  ...              Clubs                 6   \n",
       "1            Call  ...               None              None   \n",
       "2            Call  ...               None              None   \n",
       "3            Fold  ...               None              None   \n",
       "4           Raise  ...               None              None   \n",
       "..            ...  ...                ...               ...   \n",
       "211         Blind  ...               None              None   \n",
       "212         Blind  ...               None              None   \n",
       "213         Blind  ...               None              None   \n",
       "214         Blind  ...               None              None   \n",
       "215         Blind  ...               None              None   \n",
       "\n",
       "    Player6Card2Figure        gameID Player1Outcome Player2Outcome  \\\n",
       "0               Hearts  210328165805          -1500            -25   \n",
       "1                 None  210328165807              0            150   \n",
       "2                 None  210328165808              0          -1450   \n",
       "3                 None  210328165809              0            -25   \n",
       "4                 None  210328165810              0           -143   \n",
       "..                 ...           ...            ...            ...   \n",
       "211               None  210329013329             50              0   \n",
       "212               None  210329013330             25              0   \n",
       "213               None  210329013331           3083              0   \n",
       "214               None  210329013332             25              0   \n",
       "215               None  210329013333            -25              0   \n",
       "\n",
       "    Player3Outcome Player4Outcome Player5Outcome Player6Outcome  \n",
       "0             4352          -1327          -1500              0  \n",
       "1              -50            -50              0            -50  \n",
       "2            -1450              0              0           2900  \n",
       "3            -2897              0              0           2922  \n",
       "4              243            -50              0            -50  \n",
       "..             ...            ...            ...            ...  \n",
       "211              0            -50              0              0  \n",
       "212              0            -25              0              0  \n",
       "213              0          -3083              0              0  \n",
       "214              0            -25              0              0  \n",
       "215              0             25              0              0  \n",
       "\n",
       "[216 rows x 203 columns]"
      ],
      "text/html": "<div>\n<style scoped>\n    .dataframe tbody tr th:only-of-type {\n        vertical-align: middle;\n    }\n\n    .dataframe tbody tr th {\n        vertical-align: top;\n    }\n\n    .dataframe thead th {\n        text-align: right;\n    }\n</style>\n<table border=\"1\" class=\"dataframe\">\n  <thead>\n    <tr style=\"text-align: right;\">\n      <th></th>\n      <th>gameID</th>\n      <th>Player1Action</th>\n      <th>Player1Bet</th>\n      <th>Player1Money</th>\n      <th>Player1Status</th>\n      <th>Player1Card1Value</th>\n      <th>Player1Card1Figure</th>\n      <th>Player1Card2Value</th>\n      <th>Player1Card2Figure</th>\n      <th>Player2Action</th>\n      <th>...</th>\n      <th>Player6Card1Figure</th>\n      <th>Player6Card2Value</th>\n      <th>Player6Card2Figure</th>\n      <th>gameID</th>\n      <th>Player1Outcome</th>\n      <th>Player2Outcome</th>\n      <th>Player3Outcome</th>\n      <th>Player4Outcome</th>\n      <th>Player5Outcome</th>\n      <th>Player6Outcome</th>\n    </tr>\n  </thead>\n  <tbody>\n    <tr>\n      <th>0</th>\n      <td>210328165805</td>\n      <td>All-in</td>\n      <td>1500</td>\n      <td>0</td>\n      <td>True</td>\n      <td>12</td>\n      <td>Diamonds</td>\n      <td>3</td>\n      <td>Spades</td>\n      <td>Fold</td>\n      <td>...</td>\n      <td>Clubs</td>\n      <td>6</td>\n      <td>Hearts</td>\n      <td>210328165805</td>\n      <td>-1500</td>\n      <td>-25</td>\n      <td>4352</td>\n      <td>-1327</td>\n      <td>-1500</td>\n      <td>0</td>\n    </tr>\n    <tr>\n      <th>1</th>\n      <td>210328165807</td>\n      <td>All-in</td>\n      <td>0</td>\n      <td>0</td>\n      <td>False</td>\n      <td>12</td>\n      <td>Spades</td>\n      <td>11</td>\n      <td>Diamonds</td>\n      <td>Call</td>\n      <td>...</td>\n      <td>None</td>\n      <td>None</td>\n      <td>None</td>\n      <td>210328165807</td>\n      <td>0</td>\n      <td>150</td>\n      <td>-50</td>\n      <td>-50</td>\n      <td>0</td>\n      <td>-50</td>\n    </tr>\n    <tr>\n      <th>2</th>\n      <td>210328165808</td>\n      <td>All-in</td>\n      <td>0</td>\n      <td>0</td>\n      <td>False</td>\n      <td>7</td>\n      <td>Hearts</td>\n      <td>9</td>\n      <td>Hearts</td>\n      <td>Call</td>\n      <td>...</td>\n      <td>None</td>\n      <td>None</td>\n      <td>None</td>\n      <td>210328165808</td>\n      <td>0</td>\n      <td>-1450</td>\n      <td>-1450</td>\n      <td>0</td>\n      <td>0</td>\n      <td>2900</td>\n    </tr>\n    <tr>\n      <th>3</th>\n      <td>210328165809</td>\n      <td>All-in</td>\n      <td>0</td>\n      <td>0</td>\n      <td>False</td>\n      <td>3</td>\n      <td>Spades</td>\n      <td>13</td>\n      <td>Spades</td>\n      <td>Fold</td>\n      <td>...</td>\n      <td>None</td>\n      <td>None</td>\n      <td>None</td>\n      <td>210328165809</td>\n      <td>0</td>\n      <td>-25</td>\n      <td>-2897</td>\n      <td>0</td>\n      <td>0</td>\n      <td>2922</td>\n    </tr>\n    <tr>\n      <th>4</th>\n      <td>210328165810</td>\n      <td>All-in</td>\n      <td>0</td>\n      <td>0</td>\n      <td>False</td>\n      <td>2</td>\n      <td>Hearts</td>\n      <td>4</td>\n      <td>Spades</td>\n      <td>Raise</td>\n      <td>...</td>\n      <td>None</td>\n      <td>None</td>\n      <td>None</td>\n      <td>210328165810</td>\n      <td>0</td>\n      <td>-143</td>\n      <td>243</td>\n      <td>-50</td>\n      <td>0</td>\n      <td>-50</td>\n    </tr>\n    <tr>\n      <th>...</th>\n      <td>...</td>\n      <td>...</td>\n      <td>...</td>\n      <td>...</td>\n      <td>...</td>\n      <td>...</td>\n      <td>...</td>\n      <td>...</td>\n      <td>...</td>\n      <td>...</td>\n      <td>...</td>\n      <td>...</td>\n      <td>...</td>\n      <td>...</td>\n      <td>...</td>\n      <td>...</td>\n      <td>...</td>\n      <td>...</td>\n      <td>...</td>\n      <td>...</td>\n      <td>...</td>\n    </tr>\n    <tr>\n      <th>211</th>\n      <td>210329013329</td>\n      <td>Call</td>\n      <td>0</td>\n      <td>27673</td>\n      <td>True</td>\n      <td>6</td>\n      <td>Clubs</td>\n      <td>11</td>\n      <td>Spades</td>\n      <td>Blind</td>\n      <td>...</td>\n      <td>None</td>\n      <td>None</td>\n      <td>None</td>\n      <td>210329013329</td>\n      <td>50</td>\n      <td>0</td>\n      <td>0</td>\n      <td>-50</td>\n      <td>0</td>\n      <td>0</td>\n    </tr>\n    <tr>\n      <th>212</th>\n      <td>210329013330</td>\n      <td>Raise</td>\n      <td>3074</td>\n      <td>24649</td>\n      <td>True</td>\n      <td>12</td>\n      <td>Clubs</td>\n      <td>12</td>\n      <td>Spades</td>\n      <td>Blind</td>\n      <td>...</td>\n      <td>None</td>\n      <td>None</td>\n      <td>None</td>\n      <td>210329013330</td>\n      <td>25</td>\n      <td>0</td>\n      <td>0</td>\n      <td>-25</td>\n      <td>0</td>\n      <td>0</td>\n    </tr>\n    <tr>\n      <th>213</th>\n      <td>210329013331</td>\n      <td>Raise</td>\n      <td>3083</td>\n      <td>24665</td>\n      <td>True</td>\n      <td>11</td>\n      <td>Diamonds</td>\n      <td>5</td>\n      <td>Spades</td>\n      <td>Blind</td>\n      <td>...</td>\n      <td>None</td>\n      <td>None</td>\n      <td>None</td>\n      <td>210329013331</td>\n      <td>3083</td>\n      <td>0</td>\n      <td>0</td>\n      <td>-3083</td>\n      <td>0</td>\n      <td>0</td>\n    </tr>\n    <tr>\n      <th>214</th>\n      <td>210329013332</td>\n      <td>Call</td>\n      <td>0</td>\n      <td>30831</td>\n      <td>True</td>\n      <td>8</td>\n      <td>Hearts</td>\n      <td>2</td>\n      <td>Spades</td>\n      <td>Blind</td>\n      <td>...</td>\n      <td>None</td>\n      <td>None</td>\n      <td>None</td>\n      <td>210329013332</td>\n      <td>25</td>\n      <td>0</td>\n      <td>0</td>\n      <td>-25</td>\n      <td>0</td>\n      <td>0</td>\n    </tr>\n    <tr>\n      <th>215</th>\n      <td>210329013333</td>\n      <td>Fold</td>\n      <td>0</td>\n      <td>30831</td>\n      <td>False</td>\n      <td>10</td>\n      <td>Spades</td>\n      <td>2</td>\n      <td>Hearts</td>\n      <td>Blind</td>\n      <td>...</td>\n      <td>None</td>\n      <td>None</td>\n      <td>None</td>\n      <td>210329013333</td>\n      <td>-25</td>\n      <td>0</td>\n      <td>0</td>\n      <td>25</td>\n      <td>0</td>\n      <td>0</td>\n    </tr>\n  </tbody>\n</table>\n<p>216 rows × 203 columns</p>\n</div>"
     },
     "metadata": {},
     "execution_count": 11
    }
   ],
   "source": [
    "df6"
   ]
  },
  {
   "cell_type": "code",
   "execution_count": 15,
   "metadata": {},
   "outputs": [
    {
     "output_type": "execute_result",
     "data": {
      "text/plain": [
       "Index(['gameID', 'Player1Action', 'Player1Bet', 'Player1Money',\n",
       "       'Player1Status', 'Player1Card1Value', 'Player1Card1Figure',\n",
       "       'Player1Card2Value', 'Player1Card2Figure', 'Player2Action',\n",
       "       'Player2Bet', 'Player2Money', 'Player2Status', 'Player2Card1Value',\n",
       "       'Player2Card1Figure', 'Player2Card2Value', 'Player2Card2Figure',\n",
       "       'Player3Action', 'Player3Bet', 'Player3Money', 'Player3Status',\n",
       "       'Player3Card1Value', 'Player3Card1Figure', 'Player3Card2Value',\n",
       "       'Player3Card2Figure', 'Player4Action', 'Player4Bet', 'Player4Money',\n",
       "       'Player4Status', 'Player4Card1Value', 'Player4Card1Figure',\n",
       "       'Player4Card2Value', 'Player4Card2Figure', 'Player5Action',\n",
       "       'Player5Bet', 'Player5Money', 'Player5Status', 'Player5Card1Value',\n",
       "       'Player5Card1Figure', 'Player5Card2Value', 'Player5Card2Figure',\n",
       "       'Player6Action', 'Player6Bet', 'Player6Money', 'Player6Status',\n",
       "       'Player6Card1Value', 'Player6Card1Figure', 'Player6Card2Value',\n",
       "       'Player6Card2Figure', 'Player1Outcome', 'Player2Outcome',\n",
       "       'Player3Outcome', 'Player4Outcome', 'Player5Outcome', 'Player6Outcome'],\n",
       "      dtype='object')"
      ]
     },
     "metadata": {},
     "execution_count": 15
    }
   ],
   "source": [
    "df6.columns.unique()"
   ]
  },
  {
   "cell_type": "code",
   "execution_count": 8,
   "metadata": {},
   "outputs": [],
   "source": [
    "#df6 = ds.link_phases([df_6x1,df_6x2,df_6x3,df_6x4,df_6xR])"
   ]
  },
  {
   "cell_type": "code",
   "execution_count": null,
   "metadata": {},
   "outputs": [],
   "source": [
    "#inputs = tf.keras.Input(shape=)"
   ]
  }
 ]
}